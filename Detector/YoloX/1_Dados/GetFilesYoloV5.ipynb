{
 "cells": [
  {
   "cell_type": "code",
   "execution_count": 1,
   "id": "6d0afa4c",
   "metadata": {},
   "outputs": [],
   "source": [
    "# !rm -fr /home/karem/.local/share/Trash/files/*"
   ]
  },
  {
   "cell_type": "code",
   "execution_count": 2,
   "id": "4e1c488f",
   "metadata": {},
   "outputs": [],
   "source": [
    "import pandas as pd\n",
    "import os"
   ]
  },
  {
   "cell_type": "markdown",
   "id": "acea240f",
   "metadata": {},
   "source": [
    "### Carrega os arquivos "
   ]
  },
  {
   "cell_type": "code",
   "execution_count": 3,
   "id": "fda89bd9",
   "metadata": {},
   "outputs": [
    {
     "name": "stdout",
     "output_type": "stream",
     "text": [
      "/home/karem/Artigo_Periodico/1_Dataset/CSV_Files/1class_trainCovid/\n",
      "Size train:  3331 \n",
      "Size val:  183 \n",
      "Size test:  389\n"
     ]
    }
   ],
   "source": [
    "# caso = 1\n",
    "# caso = 2\n",
    "caso = 3\n",
    "\n",
    "if caso == 1:\n",
    "    folder = '/home/karem/Artigo_Periodico/1_Dataset/CSV_Files/2class_trainCovidNormal/'\n",
    "elif caso == 2:\n",
    "    folder = '/home/karem/Artigo_Periodico/1_Dataset/CSV_Files/2class_trainCovid/'\n",
    "elif caso == 3:\n",
    "    folder = '/home/karem/Artigo_Periodico/1_Dataset/CSV_Files/1class_trainCovid/'\n",
    "    \n",
    "print(folder)\n",
    "    \n",
    "df_train = pd.read_csv(folder + '/train.csv')\n",
    "df_val = pd.read_csv(folder + '/val.csv')\n",
    "df_test = pd.read_csv(folder + '/test.csv')\n",
    "\n",
    "print('Size train: ', len(df_train), '\\nSize val: ', len(df_val), '\\nSize test: ', len(df_test))"
   ]
  },
  {
   "cell_type": "markdown",
   "id": "7fca7f22",
   "metadata": {},
   "source": [
    "### Salva as imagens"
   ]
  },
  {
   "cell_type": "code",
   "execution_count": 4,
   "id": "16c53835",
   "metadata": {},
   "outputs": [],
   "source": [
    "def convert_toRGB(img, dest, name):\n",
    "    img = img.convert(mode='L')\n",
    "    array = np.asarray(img) ## -> converte para array  \n",
    "    \n",
    "    # Convert to 8 bits\n",
    "    array = array - np.min(array)\n",
    "    array = array / np.max(array)\n",
    "    array = (array * (2**8-1)).astype(np.uint8)               \n",
    "    array = cv2.cvtColor(array, cv2.COLOR_GRAY2RGB)    \n",
    "    \n",
    "    # im = Image.fromarray(array)\n",
    "    cv2.imwrite(dest + name + '.jpg', array)    \n",
    "    \n",
    "    # return array\n",
    "    # return im"
   ]
  },
  {
   "cell_type": "code",
   "execution_count": 5,
   "id": "86b7f994",
   "metadata": {},
   "outputs": [],
   "source": [
    "from PIL import Image\n",
    "def save_image(df, dest):\n",
    "    for i in range(len(df)):\n",
    "        name = df['id'][i].replace('_image', '.png')\n",
    "        im = Image.open(path_dataset + name)        \n",
    "        im.save(dest + name)\n",
    "    \n",
    "        name1 = os.path.splitext(dest + name)[0]\n",
    "        os.rename(dest + name, name1 + '.jpg')"
   ]
  },
  {
   "cell_type": "code",
   "execution_count": 6,
   "id": "9d38b712",
   "metadata": {},
   "outputs": [],
   "source": [
    "# se o diretório não existir, ele é criado\n",
    "def createfolder(path):\n",
    "    if not os.path.exists(path):\n",
    "        os.makedirs(path)\n",
    "        \n",
    "        \n",
    "# se houver a pasta, ela é removida\n",
    "import shutil\n",
    "def remove_folders(path):\n",
    "    if os.path.exists(path):\n",
    "        shutil.rmtree(path)"
   ]
  },
  {
   "cell_type": "code",
   "execution_count": 7,
   "id": "22630b01",
   "metadata": {},
   "outputs": [
    {
     "name": "stdout",
     "output_type": "stream",
     "text": [
      "/home/karem/Artigo_Periodico/Detector/YoloX/1_Dados/\n"
     ]
    }
   ],
   "source": [
    "diretorio = os.getcwd() + '/'\n",
    "print(diretorio)\n",
    "\n",
    "path_dataset = '/home/karem/Artigo_Periodico/1_Dataset/2_PreProc_size640/'\n",
    "\n",
    "dest_train = diretorio + 'images/train/'\n",
    "dest_val = diretorio + 'images/valid/'\n",
    "dest_test = diretorio + 'images/test/'\n",
    "\n",
    "remove_folders(dest_train)\n",
    "remove_folders(dest_val)\n",
    "remove_folders(dest_test)\n",
    "\n",
    "createfolder(dest_train)\n",
    "createfolder(dest_val)\n",
    "createfolder(dest_test)"
   ]
  },
  {
   "cell_type": "code",
   "execution_count": 8,
   "id": "c1c0df79",
   "metadata": {},
   "outputs": [
    {
     "name": "stdout",
     "output_type": "stream",
     "text": [
      "início train\n",
      "início val\n",
      "início test\n"
     ]
    }
   ],
   "source": [
    "############ Salva a imagem em formato JPG\n",
    "\n",
    "print('início train')\n",
    "# save_imageJPG(df_train, dest_train)\n",
    "save_image(df_train, dest_train)\n",
    "\n",
    "print('início val')\n",
    "# save_imageJPG(df_val, dest_val)\n",
    "save_image(df_val, dest_val)\n",
    "\n",
    "print('início test')\n",
    "# save_imageJPG(df_test, dest_test)\n",
    "save_image(df_test, dest_test)"
   ]
  },
  {
   "cell_type": "code",
   "execution_count": null,
   "id": "9f8455b8",
   "metadata": {},
   "outputs": [],
   "source": []
  },
  {
   "cell_type": "code",
   "execution_count": null,
   "id": "abf94956",
   "metadata": {},
   "outputs": [],
   "source": []
  },
  {
   "cell_type": "code",
   "execution_count": null,
   "id": "02974135",
   "metadata": {},
   "outputs": [],
   "source": []
  }
 ],
 "metadata": {
  "kernelspec": {
   "display_name": "Python 3 (ipykernel)",
   "language": "python",
   "name": "python3"
  },
  "language_info": {
   "codemirror_mode": {
    "name": "ipython",
    "version": 3
   },
   "file_extension": ".py",
   "mimetype": "text/x-python",
   "name": "python",
   "nbconvert_exporter": "python",
   "pygments_lexer": "ipython3",
   "version": "3.9.7"
  }
 },
 "nbformat": 4,
 "nbformat_minor": 5
}
