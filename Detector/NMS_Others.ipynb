{
 "cells": [
  {
   "cell_type": "markdown",
   "id": "0e07a133",
   "metadata": {},
   "source": [
    "https://github.com/ZFTurbo/Weighted-Boxes-Fusion\n",
    "https://codechina.csdn.net/WXL11221/Weighted-Boxes-Fusion/-/tree/master/examples\n",
    "\n",
    "https://github.com/ZFTurbo/Weighted-Boxes-Fusion/blob/master/ensemble_boxes/ensemble_boxes_wbf.py\n",
    "\n",
    "Artigo:\n",
    "https://www.sciencedirect.com/science/article/pii/S0262885621000226?via%3Dihub\n",
    "\n",
    "https://medium.com/analytics-vidhya/weighted-boxes-fusion-86fad2c6be16\n",
    "\n",
    "faster nms: https://www.pyimagesearch.com/2015/02/16/faster-non-maximum-suppression-python/"
   ]
  },
  {
   "cell_type": "code",
   "execution_count": 1,
   "id": "761262a2",
   "metadata": {},
   "outputs": [],
   "source": [
    "#!pip install ensemble-boxes"
   ]
  },
  {
   "cell_type": "code",
   "execution_count": 1,
   "id": "dd7e7ae2",
   "metadata": {},
   "outputs": [],
   "source": [
    "from ensemble_boxes import *"
   ]
  },
  {
   "cell_type": "code",
   "execution_count": 2,
   "id": "48279dd8",
   "metadata": {},
   "outputs": [],
   "source": [
    "boxes_list = [[\n",
    "    [0.00, 0.51, 0.81, 0.91],\n",
    "    [0.10, 0.31, 0.71, 0.61],\n",
    "    [0.01, 0.32, 0.83, 0.93],\n",
    "    [0.02, 0.53, 0.11, 0.94],\n",
    "    [0.03, 0.24, 0.12, 0.35],\n",
    "],[\n",
    "    [0.04, 0.56, 0.84, 0.92],\n",
    "    [0.12, 0.33, 0.72, 0.64],\n",
    "    [0.38, 0.66, 0.79, 0.95],\n",
    "    [0.08, 0.49, 0.21, 0.89],\n",
    "]]"
   ]
  },
  {
   "cell_type": "code",
   "execution_count": 3,
   "id": "1d13848a",
   "metadata": {},
   "outputs": [],
   "source": [
    "scores_list = [[0.9, 0.8, 0.2, 0.4, 0.7], [0.5, 0.8, 0.7, 0.3]]\n",
    "labels_list = [[0, 1, 0, 1, 1], [1, 1, 1, 0]]\n",
    "weights = [2, 1]\n",
    "\n",
    "iou_thr = 0.5\n",
    "skip_box_thr = 0.0001\n",
    "sigma = 0.1"
   ]
  },
  {
   "cell_type": "code",
   "execution_count": 4,
   "id": "0fc85e97",
   "metadata": {},
   "outputs": [
    {
     "name": "stdout",
     "output_type": "stream",
     "text": [
      "[[0.   0.51 0.81 0.91]\n",
      " [0.08 0.49 0.21 0.89]\n",
      " [0.1  0.31 0.71 0.61]\n",
      " [0.03 0.24 0.12 0.35]\n",
      " [0.02 0.53 0.11 0.94]\n",
      " [0.38 0.66 0.79 0.95]\n",
      " [0.04 0.56 0.84 0.92]]\n",
      "[0.6        0.1        0.53333333 0.46666667 0.26666667 0.23333333\n",
      " 0.16666667]\n",
      "[0 0 1 1 1 1 1]\n"
     ]
    }
   ],
   "source": [
    "boxes, scores, labels = nms(boxes_list, scores_list, labels_list, weights=weights, iou_thr=iou_thr)\n",
    "\n",
    "print(boxes)\n",
    "print(scores)\n",
    "print(labels)"
   ]
  },
  {
   "cell_type": "code",
   "execution_count": 10,
   "id": "fe69e2db",
   "metadata": {},
   "outputs": [
    {
     "name": "stdout",
     "output_type": "stream",
     "text": [
      "[[0.   0.51 0.81 0.91]\n",
      " [0.08 0.49 0.21 0.89]\n",
      " [0.01 0.32 0.83 0.93]\n",
      " [0.1  0.31 0.71 0.61]\n",
      " [0.03 0.24 0.12 0.35]\n",
      " [0.02 0.53 0.11 0.94]\n",
      " [0.38 0.66 0.79 0.95]\n",
      " [0.04 0.56 0.84 0.92]\n",
      " [0.12 0.33 0.72 0.64]]\n",
      "[0.4        0.03333333 0.08888889 0.35555556 0.31111111 0.17777778\n",
      " 0.07777778 0.05555556 0.08888889]\n",
      "[0 0 0 1 1 1 1 1 1]\n"
     ]
    }
   ],
   "source": [
    "boxes, scores, labels = soft_nms(boxes_list, scores_list, labels_list, weights=weights, iou_thr=iou_thr, sigma=sigma, thresh=skip_box_thr)\n",
    "\n",
    "print(boxes)\n",
    "print(scores)\n",
    "print(labels)"
   ]
  },
  {
   "cell_type": "code",
   "execution_count": 11,
   "id": "81f84782",
   "metadata": {},
   "outputs": [
    {
     "name": "stdout",
     "output_type": "stream",
     "text": [
      "[[0.00123605 0.48651513 0.8124721  0.91247207]\n",
      " [0.10184006 0.31184006 0.71092004 0.61276007]\n",
      " [0.03       0.23999998 0.11999999 0.35      ]\n",
      " [0.02       0.53000003 0.11       0.94      ]\n",
      " [0.38       0.65999997 0.78999996 0.95      ]\n",
      " [0.04       0.56       0.84       0.91999996]\n",
      " [0.08       0.49       0.21       0.8899999 ]]\n",
      "[0.4        0.35555556 0.31111112 0.17777778 0.03888889 0.02777778\n",
      " 0.01666667]\n",
      "[0. 1. 1. 1. 1. 1. 0.]\n"
     ]
    }
   ],
   "source": [
    "boxes, scores, labels = non_maximum_weighted(boxes_list, scores_list, labels_list, weights=weights, iou_thr=iou_thr, skip_box_thr=skip_box_thr)\n",
    "\n",
    "print(boxes)\n",
    "print(scores)\n",
    "print(labels)"
   ]
  },
  {
   "cell_type": "code",
   "execution_count": 12,
   "id": "89315a51",
   "metadata": {},
   "outputs": [
    {
     "name": "stdout",
     "output_type": "stream",
     "text": [
      "[[0.00181818 0.47545454 0.81363636 0.91363633]\n",
      " [0.10222223 0.31222221 0.71111113 0.61333328]\n",
      " [0.03       0.24       0.12       0.35      ]\n",
      " [0.02       0.53       0.11       0.94      ]\n",
      " [0.38       0.66       0.79       0.95      ]\n",
      " [0.04       0.56       0.84       0.92      ]\n",
      " [0.08       0.49       0.21       0.89      ]]\n",
      "[0.32592592 0.26666668 0.20740741 0.11851852 0.02592593 0.01851852\n",
      " 0.01111111]\n",
      "[0. 1. 1. 1. 1. 1. 0.]\n"
     ]
    }
   ],
   "source": [
    "boxes, scores, labels = weighted_boxes_fusion(boxes_list, scores_list, labels_list, weights=weights, iou_thr=iou_thr, skip_box_thr=skip_box_thr)\n",
    "\n",
    "print(boxes)\n",
    "print(scores)\n",
    "print(labels)"
   ]
  },
  {
   "cell_type": "code",
   "execution_count": null,
   "id": "b6ccce16",
   "metadata": {},
   "outputs": [],
   "source": []
  },
  {
   "cell_type": "code",
   "execution_count": 9,
   "id": "9b578918",
   "metadata": {},
   "outputs": [],
   "source": [
    "filename = 'T'"
   ]
  },
  {
   "cell_type": "code",
   "execution_count": 10,
   "id": "a64c6c1a",
   "metadata": {},
   "outputs": [],
   "source": [
    "for i in range(len(boxes_list)):\n",
    "    with open(filename + str(i) + '.txt', \"w\") as f:\n",
    "        for j in range(len(boxes_list[i])):        \n",
    "            f.write(str(boxes_list[i][j]) + '\\n')                        \n",
    "    f.close()"
   ]
  },
  {
   "cell_type": "code",
   "execution_count": 22,
   "id": "ff4d0e96",
   "metadata": {},
   "outputs": [],
   "source": [
    "# Converte string para lista\n",
    "def Convert_str_to_float(string):\n",
    "    li = list(string.split(\", \"))\n",
    "    return li"
   ]
  },
  {
   "cell_type": "code",
   "execution_count": 44,
   "id": "8ba0b2b0",
   "metadata": {},
   "outputs": [],
   "source": [
    "import re\n",
    "def convert_df_lista_int(str1):    \n",
    "    str1 = re.sub(r\"[\\([{})\\]]\", \"\", str1) # remove os caracteres da string\n",
    "    #str1 = (str1.replace('.0', '')) # substirui a casa decimal .0 por vazio, tornando a string no formato int\n",
    "    str1 = list(str1.split(\", \"))    \n",
    "    str1 = [(float(i)) for i in str1] # convert os valores para inteiro e depois string    \n",
    "    return str1"
   ]
  },
  {
   "cell_type": "code",
   "execution_count": 45,
   "id": "dea08ab9",
   "metadata": {},
   "outputs": [
    {
     "name": "stdout",
     "output_type": "stream",
     "text": [
      "/home/karem/Artigo_Periodico\n",
      "T0.txt\n",
      "[[0.0, 0.51, 0.81, 0.91], [0.1, 0.31, 0.71, 0.61], [0.01, 0.32, 0.83, 0.93], [0.02, 0.53, 0.11, 0.94], [0.03, 0.24, 0.12, 0.35]]\n",
      "T1.txt\n",
      "[[0.04, 0.56, 0.84, 0.92], [0.12, 0.33, 0.72, 0.64], [0.38, 0.66, 0.79, 0.95], [0.08, 0.49, 0.21, 0.89]]\n"
     ]
    }
   ],
   "source": [
    "path = os.getcwd()\n",
    "print(path)\n",
    "\n",
    "import numpy as np\n",
    "\n",
    "l = []\n",
    "\n",
    "import glob\n",
    "for filename in glob.glob('*.txt'):\n",
    "    with open(os.path.join(os.getcwd(), filename), 'r') as f: # open in readonly mode        \n",
    "        print(filename)\n",
    "        \n",
    "        m = []\n",
    "        for line in f:\n",
    "            if line: #avoid blank lines\n",
    "                ll = convert_df_lista_int(line)\n",
    "                #print(ll)   \n",
    "            m.append(ll)        \n",
    "        \n",
    "    print(m)\n",
    "        "
   ]
  },
  {
   "cell_type": "code",
   "execution_count": 47,
   "id": "7eb97622",
   "metadata": {},
   "outputs": [
    {
     "data": {
      "text/plain": [
       "[0.12, 0.33, 0.72, 0.64]"
      ]
     },
     "execution_count": 47,
     "metadata": {},
     "output_type": "execute_result"
    }
   ],
   "source": [
    "m[1]"
   ]
  },
  {
   "cell_type": "code",
   "execution_count": null,
   "id": "1376a4a7",
   "metadata": {},
   "outputs": [],
   "source": []
  }
 ],
 "metadata": {
  "kernelspec": {
   "display_name": "Python 3 (ipykernel)",
   "language": "python",
   "name": "python3"
  },
  "language_info": {
   "codemirror_mode": {
    "name": "ipython",
    "version": 3
   },
   "file_extension": ".py",
   "mimetype": "text/x-python",
   "name": "python",
   "nbconvert_exporter": "python",
   "pygments_lexer": "ipython3",
   "version": "3.9.7"
  }
 },
 "nbformat": 4,
 "nbformat_minor": 5
}
