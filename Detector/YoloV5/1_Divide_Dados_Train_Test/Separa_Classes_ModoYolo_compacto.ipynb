{
 "cells": [
  {
   "cell_type": "code",
   "execution_count": 1,
   "id": "30a3b2ab",
   "metadata": {},
   "outputs": [],
   "source": [
    "# !rm -r /home/karem/DatasetKaggleCovid/Dataset/Original/.ipynb_checkpoints\n",
    "# !rm -fr /home/karem/.local/share/Trash/files/*"
   ]
  },
  {
   "cell_type": "code",
   "execution_count": 1,
   "id": "d2d99389",
   "metadata": {},
   "outputs": [],
   "source": [
    "import pandas as pd\n",
    "import os\n",
    "import numpy as np\n",
    "\n",
    "from pathlib import Path"
   ]
  },
  {
   "cell_type": "markdown",
   "id": "7d72da54",
   "metadata": {},
   "source": [
    "### Funções"
   ]
  },
  {
   "cell_type": "code",
   "execution_count": 2,
   "id": "c6fa891a",
   "metadata": {},
   "outputs": [],
   "source": [
    "# se o diretório não existir, ele é criado\n",
    "def createfolder(path):\n",
    "    if not os.path.exists(path):\n",
    "        os.makedirs(path)\n",
    "        \n",
    "        \n",
    "# se houver a pasta, ela é removida\n",
    "import shutil\n",
    "def remove_folders(path):\n",
    "    if os.path.exists(path):\n",
    "        shutil.rmtree(path)"
   ]
  },
  {
   "cell_type": "code",
   "execution_count": 3,
   "id": "874bc991",
   "metadata": {},
   "outputs": [],
   "source": [
    "###############################################\n",
    "### Separa os dados em treino e teste\n",
    "###############################################\n",
    "\n",
    "# 90% dos dados são utilizados para treino, 0% para validação e 10% para teste\n",
    "def train_validate_test_split(df, train_percent=.9, validate_percent=.0, seed=42): # sem validação\n",
    "#def train_validate_test_split(df, train_percent=.85, validate_percent=.05, seed=42): # com validação\n",
    "    np.random.seed(seed)\n",
    "    perm = np.random.permutation(df.index)\n",
    "    m = len(df.index)\n",
    "    train_end = int(train_percent * m)\n",
    "    validate_end = int(validate_percent * m) + train_end\n",
    "    train = df.iloc[perm[:train_end]]\n",
    "    validate = df.iloc[perm[train_end:validate_end]]\n",
    "    test = df.iloc[perm[validate_end:]]\n",
    "    return train, validate, test"
   ]
  },
  {
   "cell_type": "code",
   "execution_count": 4,
   "id": "45e307db",
   "metadata": {},
   "outputs": [],
   "source": [
    "def remove_negative_cases(df):\n",
    "    \n",
    "    indexNames = df[(df['class_name'] == 'negative')].index\n",
    "    df.drop(indexNames , inplace=True)\n",
    "\n",
    "    df = df.reset_index(drop=True) # reinicia o index\n",
    "\n",
    "    df = df.fillna(0) # substitui NaN por zero\n",
    "\n",
    "    # print(len(df))\n",
    "    # df.head(5)\n",
    "    return df"
   ]
  },
  {
   "cell_type": "code",
   "execution_count": 5,
   "id": "143a1009",
   "metadata": {},
   "outputs": [],
   "source": [
    "def convert_toRGB(img, dest, name):\n",
    "    img = img.convert(mode='L')\n",
    "    array = np.asarray(img) ## -> converte para array  \n",
    "    \n",
    "    # Convert to 8 bits\n",
    "    array = array - np.min(array)\n",
    "    array = array / np.max(array)\n",
    "    array = (array * (2**8-1)).astype(np.uint8)               \n",
    "    array = cv2.cvtColor(array, cv2.COLOR_GRAY2RGB)    \n",
    "    \n",
    "    cv2.imwrite(dest + name + '.jpg', array)"
   ]
  },
  {
   "cell_type": "code",
   "execution_count": 6,
   "id": "3c5df192",
   "metadata": {},
   "outputs": [],
   "source": [
    "from PIL import Image\n",
    "def save_image(df, dest):\n",
    "    for i in range(len(df)):\n",
    "        name = df['id'][i].replace('_image', '.png')\n",
    "        im = Image.open(path_dataset + name)        \n",
    "        im.save(dest + name)"
   ]
  },
  {
   "cell_type": "code",
   "execution_count": 7,
   "id": "b88fcc2d",
   "metadata": {},
   "outputs": [],
   "source": [
    "def convert(size, box):\n",
    "    dw = 1./size[0]\n",
    "    dh = 1./size[1]\n",
    "    x = (box[0] + box[1])/2.0\n",
    "    y = (box[2] + box[3])/2.0\n",
    "    w = box[1] - box[0]\n",
    "    h = box[3] - box[2]\n",
    "    x = x*dw\n",
    "    w = w*dw\n",
    "    y = y*dh\n",
    "    h = h*dh\n",
    "    return (x,y,w,h)"
   ]
  },
  {
   "cell_type": "code",
   "execution_count": 8,
   "id": "8564d612",
   "metadata": {},
   "outputs": [],
   "source": [
    "def convYolo(xmin, ymin, w, w_img, h, h_img):\n",
    "    xcenter = (xmin + w/2) / w_img\n",
    "    ycenter = (ymin + h/2) / h_img\n",
    "    w = w / w_img\n",
    "    h = h / h_img\n",
    "    return (xcenter, ycenter, w, h)"
   ]
  },
  {
   "cell_type": "code",
   "execution_count": 9,
   "id": "86e8b9aa",
   "metadata": {},
   "outputs": [],
   "source": [
    "import re\n",
    "def createlabels(split, df):\n",
    "    if size_image == 'ori':\n",
    "        for i in range(len(df)): #2):\n",
    "            M = []\n",
    "            #f = open(split + (df['id'][i]).replace('_image', '.txt'), \"w+\") # cria o arquivo txt no diretório indicado e com o nome da imagem\n",
    "\n",
    "            # percorre a quantidade de rótulos/labels\n",
    "            for j in range(len(df['xmin_ori'][i])):\n",
    "                l = []\n",
    "\n",
    "                # verifica a se tem label. Se tiver recebe a classe 0 (= covid)\n",
    "                # senão recebe 1 (negativo)\n",
    "                if df['class_name'][i] == 'negative':\n",
    "                    classes = 1\n",
    "                else:\n",
    "                    classes = 0\n",
    "\n",
    "                # adiciona a classe e os rótulos na lista\n",
    "                l.append(classes)\n",
    "                bb = convYolo(df['xmin_ori'][i][j], df['ymin_ori'][i][j], df['width_roi_ori'][i][j], \\\n",
    "                              df['width_ori'][i], df['height_roi_ori'][i][j], df['height_ori'][i]) \n",
    "                l.append(bb[0])\n",
    "                l.append(bb[1])\n",
    "                l.append(bb[2])\n",
    "                l.append(bb[3])\n",
    "\n",
    "                M.append(l)\n",
    "                M[j][0] = np.round(M[j][0],0)\n",
    "            np.savetxt(split + (df['id'][i]).replace('_image', '.txt'), M, fmt=['%d', '%s', '%s', '%s', '%s']) #fmt=\"%s\")\n",
    "    else:\n",
    "        for i in range(len(df)): #2):\n",
    "            M = []\n",
    "            \n",
    "            # percorre a quantidade de rótulos/labels\n",
    "            for j in range(len(df['xmin'][i])):\n",
    "                l = []\n",
    "\n",
    "                # verifica a se tem label. Se tiver recebe a classe 0 (= covid)\n",
    "                # senão recebe 1 (negativo)\n",
    "                if df['class_name'][i] == 'negative':\n",
    "                    classes = 1\n",
    "                else:\n",
    "                    classes = 0\n",
    "\n",
    "                # adiciona a classe e os rótulos na lista\n",
    "                l.append(classes)\n",
    "\n",
    "                bb = convYolo(df['xmin'][i][j], df['ymin'][i][j], df['width_roi'][i][j], df['width'][i], \\\n",
    "                              df['height_roi'][i][j], df['height'][i]) \n",
    "                l.append(bb[0])\n",
    "                l.append(bb[1])\n",
    "                l.append(bb[2])\n",
    "                l.append(bb[3])\n",
    "\n",
    "                M.append(l)\n",
    "                M[j][0] = np.round(M[j][0],0)\n",
    "\n",
    "            np.savetxt(split + (df['id'][i]).replace('_image', '.txt'), M, fmt=['%d', '%s', '%s', '%s', '%s']) #fmt=\"%s\")\n"
   ]
  },
  {
   "cell_type": "markdown",
   "id": "ef633bcd",
   "metadata": {},
   "source": [
    "### Início"
   ]
  },
  {
   "cell_type": "code",
   "execution_count": 10,
   "id": "ee24087a",
   "metadata": {},
   "outputs": [
    {
     "name": "stdout",
     "output_type": "stream",
     "text": [
      "/home/karem/Artigo_Periodico/Detector/YoloV5/1_Divide_Dados_Train_Test/\n"
     ]
    }
   ],
   "source": [
    "## Captura o diretório atual e armazena em uma variável\n",
    "diretorio = os.getcwd() + '/'\n",
    "print(diretorio)\n",
    "\n",
    "\n",
    "#############################\n",
    "# Escolhe se vai trabalhar a imagem no tamanho original ou reduzido\n",
    "###############\n",
    "# size_image = 'ori' # com os dados do tamanho original\n",
    "size_image = 'resize' # com os dados do tamanho reduzido (512x512) ou (416x416)\n",
    "\n",
    "#### Se for reduzido, definir o tamanho\n",
    "size = 640 # 416, 512 ou 640 --> yolo tem por padrão o 640\n",
    "\n",
    "\n",
    "#############################\n",
    "# Escolhe o tipo de treinamento - se terá ou não casos negativos\n",
    "#############################\n",
    "# train = 1 => 2class_TrainCovidNormal\n",
    "# train = 2 => 2class_TrainCovid\n",
    "# train = 3 => 1class_trainCovid\n",
    "tipo_train = 3"
   ]
  },
  {
   "cell_type": "code",
   "execution_count": 11,
   "id": "c3ae1edd",
   "metadata": {},
   "outputs": [
    {
     "name": "stdout",
     "output_type": "stream",
     "text": [
      "9589\n"
     ]
    }
   ],
   "source": [
    "###############################################################################################\n",
    "# Carrega o csv que contém apenas os casos negativos ou com bounding boxes delimitados\n",
    "# (há casos positivos que o radiologista não delimitou os BB)\n",
    "###############################################################################################\n",
    "\n",
    "dircsv = '/home/karem/Artigo_Periodico/1_Dataset/CSV_Files/'\n",
    "df = pd.read_csv(dircsv + 'CSV_CasosSemBBRemovidos.csv')\n",
    "print(len(df))\n",
    "#df.head(5)"
   ]
  },
  {
   "cell_type": "code",
   "execution_count": 12,
   "id": "46f98ae8",
   "metadata": {},
   "outputs": [
    {
     "name": "stdout",
     "output_type": "stream",
     "text": [
      "9052\n"
     ]
    }
   ],
   "source": [
    "# Remove os casos atypical = outras doenças (mantém covid - typical e indeterminate; e negativos)\n",
    "df2 = df.copy()\n",
    "indexNames = df2[(df2['class_name'] == 'atypical')].index\n",
    "df2.drop(indexNames , inplace=True)\n",
    "\n",
    "df2 = df2.reset_index(drop=True) # reinicia o index\n",
    "\n",
    "df2 = df2.fillna(0) # substitui NaN por zero\n",
    "\n",
    "print(len(df2))\n",
    "#df2.head(5)"
   ]
  },
  {
   "cell_type": "code",
   "execution_count": 13,
   "id": "cb46032e",
   "metadata": {},
   "outputs": [
    {
     "name": "stderr",
     "output_type": "stream",
     "text": [
      "/tmp/ipykernel_11309/1655492580.py:21: FutureWarning: Indexing with multiple keys (implicitly converted to a tuple of keys) will be deprecated, use a list instead.\n",
      "  df3 = df3.groupby(['id', 'class_name', 'width', 'height'], as_index=False)['xmin', \\\n"
     ]
    },
    {
     "name": "stdout",
     "output_type": "stream",
     "text": [
      "5639\n"
     ]
    },
    {
     "data": {
      "text/html": [
       "<div>\n",
       "<style scoped>\n",
       "    .dataframe tbody tr th:only-of-type {\n",
       "        vertical-align: middle;\n",
       "    }\n",
       "\n",
       "    .dataframe tbody tr th {\n",
       "        vertical-align: top;\n",
       "    }\n",
       "\n",
       "    .dataframe thead th {\n",
       "        text-align: right;\n",
       "    }\n",
       "</style>\n",
       "<table border=\"1\" class=\"dataframe\">\n",
       "  <thead>\n",
       "    <tr style=\"text-align: right;\">\n",
       "      <th></th>\n",
       "      <th>id</th>\n",
       "      <th>class_name</th>\n",
       "      <th>width</th>\n",
       "      <th>height</th>\n",
       "      <th>xmin</th>\n",
       "      <th>ymin</th>\n",
       "      <th>xmax</th>\n",
       "      <th>ymax</th>\n",
       "      <th>width_roi</th>\n",
       "      <th>height_roi</th>\n",
       "    </tr>\n",
       "  </thead>\n",
       "  <tbody>\n",
       "    <tr>\n",
       "      <th>0</th>\n",
       "      <td>000a312787f2_image</td>\n",
       "      <td>typical</td>\n",
       "      <td>640</td>\n",
       "      <td>640</td>\n",
       "      <td>[119.0, 338.0]</td>\n",
       "      <td>[107.0, 108.0]</td>\n",
       "      <td>[273.0, 502.0]</td>\n",
       "      <td>[459.0, 432.0]</td>\n",
       "      <td>[154.0, 165.0]</td>\n",
       "      <td>[352.0, 323.0]</td>\n",
       "    </tr>\n",
       "    <tr>\n",
       "      <th>1</th>\n",
       "      <td>000c3a3f293f_image</td>\n",
       "      <td>negative</td>\n",
       "      <td>640</td>\n",
       "      <td>640</td>\n",
       "      <td>[0.0]</td>\n",
       "      <td>[0.0]</td>\n",
       "      <td>[0.0]</td>\n",
       "      <td>[0.0]</td>\n",
       "      <td>[0.0]</td>\n",
       "      <td>[0.0]</td>\n",
       "    </tr>\n",
       "    <tr>\n",
       "      <th>2</th>\n",
       "      <td>0012ff7358bc_image</td>\n",
       "      <td>typical</td>\n",
       "      <td>640</td>\n",
       "      <td>640</td>\n",
       "      <td>[142.0, 375.0]</td>\n",
       "      <td>[50.0, 101.0]</td>\n",
       "      <td>[324.0, 505.0]</td>\n",
       "      <td>[301.0, 404.0]</td>\n",
       "      <td>[182.0, 129.0]</td>\n",
       "      <td>[252.0, 303.0]</td>\n",
       "    </tr>\n",
       "    <tr>\n",
       "      <th>3</th>\n",
       "      <td>001bd15d1891_image</td>\n",
       "      <td>typical</td>\n",
       "      <td>640</td>\n",
       "      <td>640</td>\n",
       "      <td>[117.0, 484.0]</td>\n",
       "      <td>[240.0, 228.0]</td>\n",
       "      <td>[251.0, 609.0]</td>\n",
       "      <td>[493.0, 484.0]</td>\n",
       "      <td>[134.0, 124.0]</td>\n",
       "      <td>[253.0, 256.0]</td>\n",
       "    </tr>\n",
       "    <tr>\n",
       "      <th>4</th>\n",
       "      <td>0022227f5adf_image</td>\n",
       "      <td>indeterminate</td>\n",
       "      <td>640</td>\n",
       "      <td>640</td>\n",
       "      <td>[390.0]</td>\n",
       "      <td>[128.0]</td>\n",
       "      <td>[469.0]</td>\n",
       "      <td>[229.0]</td>\n",
       "      <td>[79.0]</td>\n",
       "      <td>[101.0]</td>\n",
       "    </tr>\n",
       "  </tbody>\n",
       "</table>\n",
       "</div>"
      ],
      "text/plain": [
       "                   id     class_name  width  height            xmin  \\\n",
       "0  000a312787f2_image        typical    640     640  [119.0, 338.0]   \n",
       "1  000c3a3f293f_image       negative    640     640           [0.0]   \n",
       "2  0012ff7358bc_image        typical    640     640  [142.0, 375.0]   \n",
       "3  001bd15d1891_image        typical    640     640  [117.0, 484.0]   \n",
       "4  0022227f5adf_image  indeterminate    640     640         [390.0]   \n",
       "\n",
       "             ymin            xmax            ymax       width_roi  \\\n",
       "0  [107.0, 108.0]  [273.0, 502.0]  [459.0, 432.0]  [154.0, 165.0]   \n",
       "1           [0.0]           [0.0]           [0.0]           [0.0]   \n",
       "2   [50.0, 101.0]  [324.0, 505.0]  [301.0, 404.0]  [182.0, 129.0]   \n",
       "3  [240.0, 228.0]  [251.0, 609.0]  [493.0, 484.0]  [134.0, 124.0]   \n",
       "4         [128.0]         [469.0]         [229.0]          [79.0]   \n",
       "\n",
       "       height_roi  \n",
       "0  [352.0, 323.0]  \n",
       "1           [0.0]  \n",
       "2  [252.0, 303.0]  \n",
       "3  [253.0, 256.0]  \n",
       "4         [101.0]  "
      ]
     },
     "execution_count": 13,
     "metadata": {},
     "output_type": "execute_result"
    }
   ],
   "source": [
    "######### df3 = com os dados do tamanho original\n",
    "if size_image == 'ori':\n",
    "    ### yolo => [xmid, ymid, w, h] (normalized)\n",
    "    df3 = df2[['id', 'class_name', 'xmin_ori', 'ymin_ori', 'xmax_ori', 'ymax_ori', 'width_roi_ori', \\\n",
    "           'height_roi_ori', 'width_ori', 'height_ori']].copy()\n",
    "    #df3 = df3.groupby('id', as_index=False).agg(lambda x: x.tolist())\n",
    "\n",
    "    # concatena linhas com o mesmo 'id'\n",
    "    df3 = df3.groupby(['id', 'class_name', 'width_ori', 'height_ori'], as_index=False)['xmin_ori', \\\n",
    "                                        'ymin_ori', 'xmax_ori', 'ymax_ori', 'width_roi_ori', 'height_roi_ori'].agg(list)\n",
    "    df3.columns = ['id', 'class_name', 'width', 'height', 'xmin', 'ymin', 'xmax', 'ymax', 'width_roi', 'height_roi']\n",
    "    \n",
    "######### df3 = com os dados do tamanho reduzido (640x640)\n",
    "else:\n",
    "    df3 = df2[['id', 'class_name', 'xmin', 'ymin', 'xmax', 'ymax', 'width_roi', \\\n",
    "               'height_roi']].copy()\n",
    "\n",
    "    df3['width'] = size\n",
    "    df3['height'] = size\n",
    "\n",
    "    df3 = df3.groupby(['id', 'class_name', 'width', 'height'], as_index=False)['xmin', \\\n",
    "                                             'ymin', 'xmax', 'ymax', 'width_roi', 'height_roi'].agg(list)\n",
    "\n",
    "print(len(df3))\n",
    "df3.head(5)"
   ]
  },
  {
   "cell_type": "code",
   "execution_count": 14,
   "id": "ff89e6e4",
   "metadata": {},
   "outputs": [
    {
     "name": "stdout",
     "output_type": "stream",
     "text": [
      "Typical cases:  2854\n",
      "Indeterminate cases:  1049\n",
      "Negative cases:  1736\n",
      "Atypical cases:  0\n"
     ]
    }
   ],
   "source": [
    "print('Typical cases: ', df3.class_name.str.contains('typical').sum())\n",
    "print('Indeterminate cases: ', df3.class_name.str.contains('indeterminate').sum())\n",
    "print('Negative cases: ', df3.class_name.str.contains('negative').sum())\n",
    "print('Atypical cases: ', df3.class_name.str.contains('atypical').sum())"
   ]
  },
  {
   "cell_type": "markdown",
   "id": "dfe186f7",
   "metadata": {},
   "source": [
    "### Divide os dados de treino e teste"
   ]
  },
  {
   "cell_type": "code",
   "execution_count": 15,
   "id": "6e99823a",
   "metadata": {},
   "outputs": [
    {
     "name": "stdout",
     "output_type": "stream",
     "text": [
      "5075 0 564\n"
     ]
    },
    {
     "data": {
      "text/html": [
       "<div>\n",
       "<style scoped>\n",
       "    .dataframe tbody tr th:only-of-type {\n",
       "        vertical-align: middle;\n",
       "    }\n",
       "\n",
       "    .dataframe tbody tr th {\n",
       "        vertical-align: top;\n",
       "    }\n",
       "\n",
       "    .dataframe thead th {\n",
       "        text-align: right;\n",
       "    }\n",
       "</style>\n",
       "<table border=\"1\" class=\"dataframe\">\n",
       "  <thead>\n",
       "    <tr style=\"text-align: right;\">\n",
       "      <th></th>\n",
       "      <th>id</th>\n",
       "      <th>class_name</th>\n",
       "      <th>width</th>\n",
       "      <th>height</th>\n",
       "      <th>xmin</th>\n",
       "      <th>ymin</th>\n",
       "      <th>xmax</th>\n",
       "      <th>ymax</th>\n",
       "      <th>width_roi</th>\n",
       "      <th>height_roi</th>\n",
       "    </tr>\n",
       "  </thead>\n",
       "  <tbody>\n",
       "    <tr>\n",
       "      <th>0</th>\n",
       "      <td>611964e17dd1_image</td>\n",
       "      <td>typical</td>\n",
       "      <td>640</td>\n",
       "      <td>640</td>\n",
       "      <td>[126.0, 398.0]</td>\n",
       "      <td>[351.0, 365.0]</td>\n",
       "      <td>[270.0, 519.0]</td>\n",
       "      <td>[498.0, 499.0]</td>\n",
       "      <td>[144.0, 122.0]</td>\n",
       "      <td>[147.0, 134.0]</td>\n",
       "    </tr>\n",
       "    <tr>\n",
       "      <th>1</th>\n",
       "      <td>499ba19916d1_image</td>\n",
       "      <td>typical</td>\n",
       "      <td>640</td>\n",
       "      <td>640</td>\n",
       "      <td>[70.0, 379.0]</td>\n",
       "      <td>[278.0, 275.0]</td>\n",
       "      <td>[261.0, 559.0]</td>\n",
       "      <td>[623.0, 604.0]</td>\n",
       "      <td>[191.0, 180.0]</td>\n",
       "      <td>[345.0, 329.0]</td>\n",
       "    </tr>\n",
       "    <tr>\n",
       "      <th>2</th>\n",
       "      <td>9f126fed5074_image</td>\n",
       "      <td>indeterminate</td>\n",
       "      <td>640</td>\n",
       "      <td>640</td>\n",
       "      <td>[414.0]</td>\n",
       "      <td>[343.0]</td>\n",
       "      <td>[616.0]</td>\n",
       "      <td>[490.0]</td>\n",
       "      <td>[202.0]</td>\n",
       "      <td>[147.0]</td>\n",
       "    </tr>\n",
       "    <tr>\n",
       "      <th>3</th>\n",
       "      <td>eda0821322f7_image</td>\n",
       "      <td>negative</td>\n",
       "      <td>640</td>\n",
       "      <td>640</td>\n",
       "      <td>[0.0]</td>\n",
       "      <td>[0.0]</td>\n",
       "      <td>[0.0]</td>\n",
       "      <td>[0.0]</td>\n",
       "      <td>[0.0]</td>\n",
       "      <td>[0.0]</td>\n",
       "    </tr>\n",
       "    <tr>\n",
       "      <th>4</th>\n",
       "      <td>041c956d9bd7_image</td>\n",
       "      <td>typical</td>\n",
       "      <td>640</td>\n",
       "      <td>640</td>\n",
       "      <td>[501.0, 56.0]</td>\n",
       "      <td>[194.0, 156.0]</td>\n",
       "      <td>[639.0, 184.0]</td>\n",
       "      <td>[502.0, 442.0]</td>\n",
       "      <td>[138.0, 128.0]</td>\n",
       "      <td>[309.0, 285.0]</td>\n",
       "    </tr>\n",
       "  </tbody>\n",
       "</table>\n",
       "</div>"
      ],
      "text/plain": [
       "                   id     class_name  width  height            xmin  \\\n",
       "0  611964e17dd1_image        typical    640     640  [126.0, 398.0]   \n",
       "1  499ba19916d1_image        typical    640     640   [70.0, 379.0]   \n",
       "2  9f126fed5074_image  indeterminate    640     640         [414.0]   \n",
       "3  eda0821322f7_image       negative    640     640           [0.0]   \n",
       "4  041c956d9bd7_image        typical    640     640   [501.0, 56.0]   \n",
       "\n",
       "             ymin            xmax            ymax       width_roi  \\\n",
       "0  [351.0, 365.0]  [270.0, 519.0]  [498.0, 499.0]  [144.0, 122.0]   \n",
       "1  [278.0, 275.0]  [261.0, 559.0]  [623.0, 604.0]  [191.0, 180.0]   \n",
       "2         [343.0]         [616.0]         [490.0]         [202.0]   \n",
       "3           [0.0]           [0.0]           [0.0]           [0.0]   \n",
       "4  [194.0, 156.0]  [639.0, 184.0]  [502.0, 442.0]  [138.0, 128.0]   \n",
       "\n",
       "       height_roi  \n",
       "0  [147.0, 134.0]  \n",
       "1  [345.0, 329.0]  \n",
       "2         [147.0]  \n",
       "3           [0.0]  \n",
       "4  [309.0, 285.0]  "
      ]
     },
     "execution_count": 15,
     "metadata": {},
     "output_type": "execute_result"
    }
   ],
   "source": [
    "# Divide o conjunto em treino e teste\n",
    "train, validate, test = train_validate_test_split(df3) # mantém os casos negativos\n",
    "train = train.reset_index(drop=True) # reinicia o index\n",
    "validate = validate.reset_index(drop=True) # reinicia o index\n",
    "test = test.reset_index(drop=True) # reinicia o index\n",
    "print(len(train), len(validate), len(test))\n",
    "train.head(5)"
   ]
  },
  {
   "cell_type": "markdown",
   "id": "20ff9a81",
   "metadata": {},
   "source": [
    "### Gerar dados de validação"
   ]
  },
  {
   "cell_type": "code",
   "execution_count": 16,
   "id": "78f90898",
   "metadata": {},
   "outputs": [],
   "source": [
    "# Cria uma pasta contendo as imagens -> train, val e test\n",
    "\n",
    "if size_image == 'ori':\n",
    "    path_dataset = '/home/karem/DatasetKaggleCovid/Dataset/dataOriginal_PreProcessing/train/'\n",
    "    \n",
    "else:\n",
    "    path_dataset = '/home/karem/Artigo_Periodico/1_Dataset/2_PreProc_size640/'"
   ]
  },
  {
   "cell_type": "code",
   "execution_count": 17,
   "id": "32217fbd",
   "metadata": {},
   "outputs": [
    {
     "name": "stdout",
     "output_type": "stream",
     "text": [
      "Size train/val:  5075\n",
      "---------------------------\n",
      "Size train:  4821\n",
      "Size val:  254\n",
      "Size test:  564\n"
     ]
    }
   ],
   "source": [
    "df_trainval = train.copy()\n",
    "df_test = test.copy()\n",
    "\n",
    "print('Size train/val: ', len(df_trainval))\n",
    "print('---------------------------')\n",
    "\n",
    "# Calcula o tamanho do dataframe de validação - 5%\n",
    "size = round(len(df_trainval) * 5 / 100) # o tamanho do df da validação será de 5% do tatal das imagens de treino\n",
    "df_val = df_trainval.iloc[:size, :]\n",
    "df_val = df_val.reset_index(drop=True) # reinicia o index\n",
    "\n",
    "df_train = df_trainval.iloc[size:, :]\n",
    "df_train = df_train.reset_index(drop=True) # reinicia o index\n",
    "\n",
    "print('Size train: ', len(df_train))\n",
    "print('Size val: ', len(df_val))\n",
    "print('Size test: ', len(df_test))"
   ]
  },
  {
   "cell_type": "code",
   "execution_count": 18,
   "id": "44563663",
   "metadata": {},
   "outputs": [
    {
     "name": "stdout",
     "output_type": "stream",
     "text": [
      "Size train/val:  3514\n",
      "Size train:  3331\n",
      "Size val:  183\n",
      "Size test:  389\n"
     ]
    }
   ],
   "source": [
    "#################################################################\n",
    "# Remove os casos negativos apenas do conjunto de treino/val \n",
    "\n",
    "if tipo_train == 2:     \n",
    "    df_trainval = remove_negative_cases(df_trainval)\n",
    "    df_train = remove_negative_cases(df_train)\n",
    "    df_val = remove_negative_cases(df_val)    \n",
    "elif tipo_train == 3:\n",
    "    df_trainval = remove_negative_cases(df_trainval)\n",
    "    df_train = remove_negative_cases(df_train)\n",
    "    df_val = remove_negative_cases(df_val)\n",
    "    df_test = remove_negative_cases(df_test)   \n",
    "\n",
    "print('Size train/val: ', len(df_trainval))\n",
    "print('Size train: ', len(df_train))\n",
    "print('Size val: ', len(df_val))\n",
    "print('Size test: ', len(df_test))"
   ]
  },
  {
   "cell_type": "code",
   "execution_count": 19,
   "id": "ff24bc14",
   "metadata": {},
   "outputs": [],
   "source": [
    "if tipo_train == 1:\n",
    "    folder = '/home/karem/Artigo_Periodico/1_Dataset/CSV_Files/2class_trainCovidNormal/'\n",
    "elif tipo_train == 2:\n",
    "    folder = '/home/karem/Artigo_Periodico/1_Dataset/CSV_Files/2class_trainCovid/'\n",
    "elif tipo_train == 3:\n",
    "    folder = '/home/karem/Artigo_Periodico/1_Dataset/CSV_Files/1class_trainCovid/'\n",
    "\n",
    "remove_folders(folder)\n",
    "createfolder(folder)\n",
    "\n",
    "# Salva o csv de treino e validação\n",
    "df_trainval.to_csv(folder + 'trainval.csv',\n",
    "           index = False, sep=',')\n",
    "\n",
    "# Salva o csv de treino (exclui os dados da validação do csv)\n",
    "df_train.to_csv(folder + 'train.csv', \n",
    "           index = False, sep=',')\n",
    "\n",
    "# Salva o csv de validação\n",
    "df_val.to_csv(folder + 'val.csv', \n",
    "           index = False, sep=',')\n",
    "\n",
    "# Salva o csv de teste\n",
    "df_test.to_csv(folder + 'test.csv', \n",
    "           index = False, sep=',')"
   ]
  },
  {
   "cell_type": "code",
   "execution_count": 21,
   "id": "84a641e3",
   "metadata": {},
   "outputs": [
    {
     "name": "stdout",
     "output_type": "stream",
     "text": [
      "Train/Val -> Typical cases:  2568\n",
      "Train/Val -> Indeterminate cases:  946\n",
      "Train/Val -> Negative cases:  0\n",
      "Train/Val -> Atypical cases:  0\n",
      "_________________________________________\n",
      "Test -> Typical cases:  286\n",
      "Test -> Indeterminate cases:  103\n",
      "Test -> Negative cases:  0\n",
      "Test -> Atypical cases:  0\n"
     ]
    }
   ],
   "source": [
    "print('Train/Val -> Typical cases: ', df_trainval.class_name.str.contains('typical').sum())\n",
    "print('Train/Val -> Indeterminate cases: ', df_trainval.class_name.str.contains('indeterminate').sum())\n",
    "print('Train/Val -> Negative cases: ', df_trainval.class_name.str.contains('negative').sum())\n",
    "print('Train/Val -> Atypical cases: ', df_trainval.class_name.str.contains('atypical').sum())\n",
    "\n",
    "print('_________________________________________')\n",
    "print('Test -> Typical cases: ', df_test.class_name.str.contains('typical').sum())\n",
    "print('Test -> Indeterminate cases: ', df_test.class_name.str.contains('indeterminate').sum())\n",
    "print('Test -> Negative cases: ', df_test.class_name.str.contains('negative').sum())\n",
    "print('Test -> Atypical cases: ', df_test.class_name.str.contains('atypical').sum())"
   ]
  },
  {
   "cell_type": "markdown",
   "id": "53d675d8",
   "metadata": {},
   "source": [
    "### Imagens"
   ]
  },
  {
   "cell_type": "code",
   "execution_count": 22,
   "id": "28df9d48",
   "metadata": {},
   "outputs": [
    {
     "name": "stdout",
     "output_type": "stream",
     "text": [
      "início train\n",
      "início val\n",
      "início test\n"
     ]
    }
   ],
   "source": [
    "dest_train = diretorio + 'images_' + str(tipo_train) + '/train/'\n",
    "dest_val = diretorio + 'images_' + str(tipo_train) + '/valid/'\n",
    "dest_test = diretorio + 'images_' + str(tipo_train) + '/test/'\n",
    "\n",
    "remove_folders(dest_train)\n",
    "remove_folders(dest_val)\n",
    "remove_folders(dest_test)\n",
    "\n",
    "createfolder(dest_train)\n",
    "createfolder(dest_val)\n",
    "createfolder(dest_test)\n",
    "\n",
    "############ Salva a imagem em formato JPG\n",
    "\n",
    "print('início train')\n",
    "save_image(df_train, dest_train)\n",
    "\n",
    "print('início val')\n",
    "save_image(df_val, dest_val)\n",
    "\n",
    "print('início test')\n",
    "save_image(df_test, dest_test)"
   ]
  },
  {
   "cell_type": "markdown",
   "id": "f3f7494c",
   "metadata": {},
   "source": [
    "### Gerar txt Yolo - Labels"
   ]
  },
  {
   "cell_type": "code",
   "execution_count": 23,
   "id": "130ddf41",
   "metadata": {},
   "outputs": [],
   "source": [
    "folder = diretorio\n",
    "\n",
    "path_train = folder + 'labels_' + str(tipo_train) + '/train/'\n",
    "path_val = folder + 'labels_' + str(tipo_train) + '/val/'\n",
    "path_test = folder + 'labels_' + str(tipo_train) + '/test/'\n",
    "\n",
    "createfolder(path_train)\n",
    "createfolder(path_val)\n",
    "createfolder(path_test)\n",
    "\n",
    "createlabels(path_train, df_train)\n",
    "createlabels(path_val, df_val)\n",
    "createlabels(path_test, test)"
   ]
  },
  {
   "cell_type": "code",
   "execution_count": null,
   "id": "0673f55d",
   "metadata": {},
   "outputs": [],
   "source": []
  },
  {
   "cell_type": "code",
   "execution_count": null,
   "id": "21a39e41",
   "metadata": {},
   "outputs": [],
   "source": []
  }
 ],
 "metadata": {
  "kernelspec": {
   "display_name": "Python 3 (ipykernel)",
   "language": "python",
   "name": "python3"
  },
  "language_info": {
   "codemirror_mode": {
    "name": "ipython",
    "version": 3
   },
   "file_extension": ".py",
   "mimetype": "text/x-python",
   "name": "python",
   "nbconvert_exporter": "python",
   "pygments_lexer": "ipython3",
   "version": "3.9.7"
  }
 },
 "nbformat": 4,
 "nbformat_minor": 5
}
